{
 "cells": [
  {
   "source": [
    "# Factory Method\n",
    "\n",
    "**Também conhecido como:** Método de Fábrica, Construtor Virtual.\n",
    "\n",
    "> Meu veredito a respeito do tema."
   ],
   "cell_type": "markdown",
   "metadata": {}
  },
  {
   "source": [
    "from decimal import Decimal\n",
    "\n",
    "value = Decimal('1.23')"
   ],
   "cell_type": "code",
   "metadata": {
    "tags": []
   },
   "execution_count": 3,
   "outputs": [
    {
     "output_type": "stream",
     "name": "stdout",
     "text": "<class 'decimal.Decimal'>\n"
    }
   ]
  },
  {
   "cell_type": "code",
   "execution_count": null,
   "metadata": {},
   "outputs": [],
   "source": []
  }
 ],
 "metadata": {
  "kernelspec": {
   "name": "Python 3.8.3 64-bit",
   "display_name": "Python 3.8.3 64-bit",
   "metadata": {
    "interpreter": {
     "hash": "8a3521b7c54e6f781d9924cc816711d1d0f7ea7d917448a82c872c0207ef5542"
    }
   }
  }
 },
 "nbformat": 4,
 "nbformat_minor": 4
}