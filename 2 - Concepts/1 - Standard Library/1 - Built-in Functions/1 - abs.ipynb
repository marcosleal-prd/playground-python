{
 "cells": [
  {
   "cell_type": "markdown",
   "metadata": {},
   "source": [
    "# Função `abs()`\n",
    "\n",
    "**Referência oficial:** <https://docs.python.org/3/library/functions.html#abs>\n",
    "\n",
    "### Definição\n",
    "\n",
    "A função `abs()` retorna o **valor absoluto** de uma entrada, que pode ser um número inteiro, número de ponto flutuante ou número complexo.\n",
    "\n",
    "### Sintaxe\n",
    "\n",
    "```python\n",
    "abs(value)\n",
    "```\n",
    "\n",
    "### Retorno\n",
    "\n",
    "O retorno é o valor absoluto do número fornecido como parâmetro. Sendo:\n",
    "\n",
    "- Número inteiro: O valor de retorno também será um número inteiro;\n",
    "- Número flutuante: O valor de retorno também será flutuante;\n",
    "- Número complexo: O valor de retorno será a magnitude da entrada;\n",
    "\n",
    "### Exemplos"
   ]
  },
  {
   "cell_type": "code",
   "execution_count": 10,
   "metadata": {},
   "outputs": [
    {
     "name": "stdout",
     "output_type": "stream",
     "text": [
      "123\n"
     ]
    }
   ],
   "source": [
    "# abs() para números Inteiros Positivos\n",
    "number1 = 123\n",
    "number1_abs = abs(number1)\n",
    "\n",
    "print(number1_abs)"
   ]
  },
  {
   "cell_type": "code",
   "execution_count": 11,
   "metadata": {},
   "outputs": [
    {
     "name": "stdout",
     "output_type": "stream",
     "text": [
      "165\n"
     ]
    }
   ],
   "source": [
    "# abs() para números Inteiros Negativos\n",
    "number2 = -165\n",
    "number2_abs = abs(number2)\n",
    "\n",
    "print(number2_abs)"
   ]
  },
  {
   "cell_type": "code",
   "execution_count": 6,
   "metadata": {},
   "outputs": [
    {
     "name": "stdout",
     "output_type": "stream",
     "text": [
      "123.56789056789\n"
     ]
    }
   ],
   "source": [
    "# abs() para números Flutuantes Positivos\n",
    "number3 = 123.567890567890\n",
    "number3_abs = abs(number3)\n",
    "\n",
    "print(number3_abs)"
   ]
  },
  {
   "cell_type": "code",
   "execution_count": 12,
   "metadata": {},
   "outputs": [
    {
     "name": "stdout",
     "output_type": "stream",
     "text": [
      "123.56789056789\n"
     ]
    }
   ],
   "source": [
    "# abs() para números Flutuantes Negativos\n",
    "number4 = -123.567890567890\n",
    "number4_abs = abs(number3)\n",
    "\n",
    "print(number4_abs)"
   ]
  },
  {
   "cell_type": "code",
   "execution_count": 14,
   "metadata": {},
   "outputs": [
    {
     "name": "stdout",
     "output_type": "stream",
     "text": [
      "2.23606797749979\n"
     ]
    }
   ],
   "source": [
    "# abs() para números Complexos\n",
    "number_complex1 = 1+2j\n",
    "number_complex1_abs = abs(number_complex1)\n",
    "\n",
    "print(number_complex1_abs)"
   ]
  }
 ],
 "metadata": {
  "kernelspec": {
   "display_name": "Python 3",
   "language": "python",
   "name": "python3"
  },
  "language_info": {
   "codemirror_mode": {
    "name": "ipython",
    "version": 3
   },
   "file_extension": ".py",
   "mimetype": "text/x-python",
   "name": "python",
   "nbconvert_exporter": "python",
   "pygments_lexer": "ipython3",
   "version": "3.8.3"
  }
 },
 "nbformat": 4,
 "nbformat_minor": 4
}
